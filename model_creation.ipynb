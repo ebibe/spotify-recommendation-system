{
 "cells": [
  {
   "cell_type": "code",
   "execution_count": 1,
   "id": "initial_id",
   "metadata": {
    "collapsed": true,
    "ExecuteTime": {
     "end_time": "2023-08-23T22:25:11.057003900Z",
     "start_time": "2023-08-23T22:25:10.455167100Z"
    }
   },
   "outputs": [],
   "source": [
    "import pandas as pd\n",
    "import sqlite3\n",
    "import numpy as np\n",
    "import seaborn as sns\n",
    "import matplotlib.pyplot as plt\n",
    "import matplotlib.ticker as plticker\n",
    "from imblearn.over_sampling import SMOTE\n",
    "%matplotlib inline"
   ]
  },
  {
   "cell_type": "code",
   "execution_count": 2,
   "outputs": [],
   "source": [
    "conn = sqlite3.connect('all.db')\n",
    "\n",
    "query = \"SELECT * FROM spotify_songs\"\n",
    "df = pd.read_sql_query(query, conn)\n",
    "query = \"SELECT * FROM user_songs\"\n",
    "df_fav= pd.read_sql_query(query, conn)\n",
    "\n",
    "conn.close()"
   ],
   "metadata": {
    "collapsed": false,
    "ExecuteTime": {
     "end_time": "2023-08-23T22:31:04.912211600Z",
     "start_time": "2023-08-23T22:31:04.828323300Z"
    }
   },
   "id": "100d706913261437"
  },
  {
   "cell_type": "code",
   "execution_count": 3,
   "outputs": [
    {
     "data": {
      "text/plain": "                 track_id  length  popularity  danceability  acousticness  \\\n0  23RoR84KodL5HWvUTneQ1w  231545          93         0.671       0.12000   \n1  741UUVE2kuITl0c6zuqqbO  109750          95         0.770       0.51900   \n2  2IGMVunIBsBLtEQyoI1Mu7  231750          91         0.868       0.26900   \n3  7x9aauaA9cu6tyfpHnqDLo  184400         100         0.802       0.31100   \n4  2i8f4VnnBjy0yDqH2C452a  184783          90         0.628       0.00196   \n\n   energy  instrumentalness  liveness  loudness  speechiness    tempo  \\\n0   0.876          0.188000    0.0823    -5.681       0.0352  129.998   \n1   0.580          0.000127    0.2330    -8.393       0.2470  144.072   \n2   0.538          0.000003    0.0901    -8.603       0.1740   99.968   \n3   0.832          0.000000    0.0815    -4.107       0.0434  124.997   \n4   0.878          0.000012    0.0649    -3.468       0.0901  129.976   \n\n   time_signature  \n0               4  \n1               4  \n2               4  \n3               4  \n4               4  ",
      "text/html": "<div>\n<style scoped>\n    .dataframe tbody tr th:only-of-type {\n        vertical-align: middle;\n    }\n\n    .dataframe tbody tr th {\n        vertical-align: top;\n    }\n\n    .dataframe thead th {\n        text-align: right;\n    }\n</style>\n<table border=\"1\" class=\"dataframe\">\n  <thead>\n    <tr style=\"text-align: right;\">\n      <th></th>\n      <th>track_id</th>\n      <th>length</th>\n      <th>popularity</th>\n      <th>danceability</th>\n      <th>acousticness</th>\n      <th>energy</th>\n      <th>instrumentalness</th>\n      <th>liveness</th>\n      <th>loudness</th>\n      <th>speechiness</th>\n      <th>tempo</th>\n      <th>time_signature</th>\n    </tr>\n  </thead>\n  <tbody>\n    <tr>\n      <th>0</th>\n      <td>23RoR84KodL5HWvUTneQ1w</td>\n      <td>231545</td>\n      <td>93</td>\n      <td>0.671</td>\n      <td>0.12000</td>\n      <td>0.876</td>\n      <td>0.188000</td>\n      <td>0.0823</td>\n      <td>-5.681</td>\n      <td>0.0352</td>\n      <td>129.998</td>\n      <td>4</td>\n    </tr>\n    <tr>\n      <th>1</th>\n      <td>741UUVE2kuITl0c6zuqqbO</td>\n      <td>109750</td>\n      <td>95</td>\n      <td>0.770</td>\n      <td>0.51900</td>\n      <td>0.580</td>\n      <td>0.000127</td>\n      <td>0.2330</td>\n      <td>-8.393</td>\n      <td>0.2470</td>\n      <td>144.072</td>\n      <td>4</td>\n    </tr>\n    <tr>\n      <th>2</th>\n      <td>2IGMVunIBsBLtEQyoI1Mu7</td>\n      <td>231750</td>\n      <td>91</td>\n      <td>0.868</td>\n      <td>0.26900</td>\n      <td>0.538</td>\n      <td>0.000003</td>\n      <td>0.0901</td>\n      <td>-8.603</td>\n      <td>0.1740</td>\n      <td>99.968</td>\n      <td>4</td>\n    </tr>\n    <tr>\n      <th>3</th>\n      <td>7x9aauaA9cu6tyfpHnqDLo</td>\n      <td>184400</td>\n      <td>100</td>\n      <td>0.802</td>\n      <td>0.31100</td>\n      <td>0.832</td>\n      <td>0.000000</td>\n      <td>0.0815</td>\n      <td>-4.107</td>\n      <td>0.0434</td>\n      <td>124.997</td>\n      <td>4</td>\n    </tr>\n    <tr>\n      <th>4</th>\n      <td>2i8f4VnnBjy0yDqH2C452a</td>\n      <td>184783</td>\n      <td>90</td>\n      <td>0.628</td>\n      <td>0.00196</td>\n      <td>0.878</td>\n      <td>0.000012</td>\n      <td>0.0649</td>\n      <td>-3.468</td>\n      <td>0.0901</td>\n      <td>129.976</td>\n      <td>4</td>\n    </tr>\n  </tbody>\n</table>\n</div>"
     },
     "execution_count": 3,
     "metadata": {},
     "output_type": "execute_result"
    }
   ],
   "source": [
    "df.head()"
   ],
   "metadata": {
    "collapsed": false,
    "ExecuteTime": {
     "end_time": "2023-08-23T22:31:22.170212200Z",
     "start_time": "2023-08-23T22:31:22.099689600Z"
    }
   },
   "id": "da08e68a2f25e7c0"
  },
  {
   "cell_type": "code",
   "execution_count": 4,
   "outputs": [
    {
     "data": {
      "text/plain": "                 track_id                                     name  \\\n0  6wsqVwoiVH2kde4k4KKAFU                                 I KNOW ?   \n1  5wG3HvLhF6Y5KTGlK0IW3J  Trance (with Travis Scott & Young Thug)   \n2  4kjI1gwQZRKNDkw1nI475M                                  MY EYES   \n3  04WxWo7XeVyx22xEsrWRUb                            GOD'S COUNTRY   \n4  1SJDyvnsKWHe8OE7sXRHfZ               Wind (feat. The Kid LAROI)   \n\n                    album        artist release_date  length  popularity  \\\n0                  UTOPIA  Travis Scott   2023-07-28  211582          92   \n1       HEROES & VILLAINS  Metro Boomin   2022-12-02  194786          89   \n2                  UTOPIA  Travis Scott   2023-07-28  251249          91   \n3                  UTOPIA  Travis Scott   2023-07-28  127991          88   \n4  A Love Letter To You 5  Trippie Redd   2023-08-11  170053          71   \n\n   danceability  acousticness  energy  instrumentalness  liveness  loudness  \\\n0         0.927        0.0186   0.619          0.000000     0.104    -4.441   \n1         0.571        0.1800   0.549          0.000000     0.168    -7.380   \n2         0.455        0.6510   0.621          0.000003     0.123    -7.694   \n3         0.624        0.0229   0.650          0.000012     0.145    -5.819   \n4         0.595        0.1030   0.470          0.000000     0.186    -7.356   \n\n   speechiness    tempo  time_signature  favorite  \n0       0.0539  117.995               4         1  \n1       0.4040  119.497               4         1  \n2       0.0517  119.043               4         1  \n3       0.0358  150.048               4         1  \n4       0.0445  137.098               4         1  ",
      "text/html": "<div>\n<style scoped>\n    .dataframe tbody tr th:only-of-type {\n        vertical-align: middle;\n    }\n\n    .dataframe tbody tr th {\n        vertical-align: top;\n    }\n\n    .dataframe thead th {\n        text-align: right;\n    }\n</style>\n<table border=\"1\" class=\"dataframe\">\n  <thead>\n    <tr style=\"text-align: right;\">\n      <th></th>\n      <th>track_id</th>\n      <th>name</th>\n      <th>album</th>\n      <th>artist</th>\n      <th>release_date</th>\n      <th>length</th>\n      <th>popularity</th>\n      <th>danceability</th>\n      <th>acousticness</th>\n      <th>energy</th>\n      <th>instrumentalness</th>\n      <th>liveness</th>\n      <th>loudness</th>\n      <th>speechiness</th>\n      <th>tempo</th>\n      <th>time_signature</th>\n      <th>favorite</th>\n    </tr>\n  </thead>\n  <tbody>\n    <tr>\n      <th>0</th>\n      <td>6wsqVwoiVH2kde4k4KKAFU</td>\n      <td>I KNOW ?</td>\n      <td>UTOPIA</td>\n      <td>Travis Scott</td>\n      <td>2023-07-28</td>\n      <td>211582</td>\n      <td>92</td>\n      <td>0.927</td>\n      <td>0.0186</td>\n      <td>0.619</td>\n      <td>0.000000</td>\n      <td>0.104</td>\n      <td>-4.441</td>\n      <td>0.0539</td>\n      <td>117.995</td>\n      <td>4</td>\n      <td>1</td>\n    </tr>\n    <tr>\n      <th>1</th>\n      <td>5wG3HvLhF6Y5KTGlK0IW3J</td>\n      <td>Trance (with Travis Scott &amp; Young Thug)</td>\n      <td>HEROES &amp; VILLAINS</td>\n      <td>Metro Boomin</td>\n      <td>2022-12-02</td>\n      <td>194786</td>\n      <td>89</td>\n      <td>0.571</td>\n      <td>0.1800</td>\n      <td>0.549</td>\n      <td>0.000000</td>\n      <td>0.168</td>\n      <td>-7.380</td>\n      <td>0.4040</td>\n      <td>119.497</td>\n      <td>4</td>\n      <td>1</td>\n    </tr>\n    <tr>\n      <th>2</th>\n      <td>4kjI1gwQZRKNDkw1nI475M</td>\n      <td>MY EYES</td>\n      <td>UTOPIA</td>\n      <td>Travis Scott</td>\n      <td>2023-07-28</td>\n      <td>251249</td>\n      <td>91</td>\n      <td>0.455</td>\n      <td>0.6510</td>\n      <td>0.621</td>\n      <td>0.000003</td>\n      <td>0.123</td>\n      <td>-7.694</td>\n      <td>0.0517</td>\n      <td>119.043</td>\n      <td>4</td>\n      <td>1</td>\n    </tr>\n    <tr>\n      <th>3</th>\n      <td>04WxWo7XeVyx22xEsrWRUb</td>\n      <td>GOD'S COUNTRY</td>\n      <td>UTOPIA</td>\n      <td>Travis Scott</td>\n      <td>2023-07-28</td>\n      <td>127991</td>\n      <td>88</td>\n      <td>0.624</td>\n      <td>0.0229</td>\n      <td>0.650</td>\n      <td>0.000012</td>\n      <td>0.145</td>\n      <td>-5.819</td>\n      <td>0.0358</td>\n      <td>150.048</td>\n      <td>4</td>\n      <td>1</td>\n    </tr>\n    <tr>\n      <th>4</th>\n      <td>1SJDyvnsKWHe8OE7sXRHfZ</td>\n      <td>Wind (feat. The Kid LAROI)</td>\n      <td>A Love Letter To You 5</td>\n      <td>Trippie Redd</td>\n      <td>2023-08-11</td>\n      <td>170053</td>\n      <td>71</td>\n      <td>0.595</td>\n      <td>0.1030</td>\n      <td>0.470</td>\n      <td>0.000000</td>\n      <td>0.186</td>\n      <td>-7.356</td>\n      <td>0.0445</td>\n      <td>137.098</td>\n      <td>4</td>\n      <td>1</td>\n    </tr>\n  </tbody>\n</table>\n</div>"
     },
     "execution_count": 4,
     "metadata": {},
     "output_type": "execute_result"
    }
   ],
   "source": [
    "df_fav.head()"
   ],
   "metadata": {
    "collapsed": false,
    "ExecuteTime": {
     "end_time": "2023-08-23T22:31:36.987249400Z",
     "start_time": "2023-08-23T22:31:36.873238100Z"
    }
   },
   "id": "a7119abce7103e6f"
  },
  {
   "cell_type": "code",
   "execution_count": null,
   "outputs": [],
   "source": [],
   "metadata": {
    "collapsed": false
   },
   "id": "8240c47178f9f29d"
  }
 ],
 "metadata": {
  "kernelspec": {
   "display_name": "Python 3",
   "language": "python",
   "name": "python3"
  },
  "language_info": {
   "codemirror_mode": {
    "name": "ipython",
    "version": 2
   },
   "file_extension": ".py",
   "mimetype": "text/x-python",
   "name": "python",
   "nbconvert_exporter": "python",
   "pygments_lexer": "ipython2",
   "version": "2.7.6"
  }
 },
 "nbformat": 4,
 "nbformat_minor": 5
}
