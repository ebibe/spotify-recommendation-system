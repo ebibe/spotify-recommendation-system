{
 "cells": [
  {
   "cell_type": "code",
   "id": "initial_id",
   "metadata": {
    "collapsed": true,
    "ExecuteTime": {
     "end_time": "2025-04-06T11:24:47.861875Z",
     "start_time": "2025-04-06T11:24:47.854646Z"
    }
   },
   "source": [
    "import pandas as pd\n",
    "import sqlite3\n",
    "import numpy as np\n",
    "import seaborn as sns\n",
    "import matplotlib.pyplot as plt\n",
    "import matplotlib.ticker as plticker\n",
    "from imblearn.over_sampling import SMOTE\n",
    "%matplotlib inline\n",
    "# Importing required libraries\n",
    "import sklearn\n",
    "from sklearn.pipeline import Pipeline\n",
    "from sklearn.model_selection import cross_val_score\n",
    "from sklearn.model_selection import train_test_split\n",
    "from sklearn.model_selection import GridSearchCV\n",
    "\n",
    "from sklearn import metrics \n",
    "from sklearn.metrics import f1_score\n",
    "# Models\n",
    "from sklearn.ensemble import RandomForestClassifier\n",
    "from sklearn.linear_model import LogisticRegression \n",
    "from sklearn.tree import DecisionTreeClassifier\n",
    "from sklearn.metrics import confusion_matrix, ConfusionMatrixDisplay"
   ],
   "outputs": [],
   "execution_count": 2
  },
  {
   "cell_type": "code",
   "source": [
    "conn = sqlite3.connect('all.db')\n",
    "\n",
    "query = \"SELECT * FROM spotify_songs\"\n",
    "df = pd.read_sql_query(query, conn)\n",
    "query = \"SELECT * FROM user_songs\"\n",
    "df_fav= pd.read_sql_query(query, conn)\n",
    "\n",
    "conn.close()"
   ],
   "metadata": {
    "collapsed": false,
    "ExecuteTime": {
     "end_time": "2025-04-06T11:24:50.156169Z",
     "start_time": "2025-04-06T11:24:50.101342Z"
    }
   },
   "id": "100d706913261437",
   "outputs": [],
   "execution_count": 3
  },
  {
   "cell_type": "code",
   "source": [
    "df.head()"
   ],
   "metadata": {
    "collapsed": false,
    "ExecuteTime": {
     "end_time": "2025-04-06T11:24:52.142304Z",
     "start_time": "2025-04-06T11:24:52.127464Z"
    }
   },
   "id": "da08e68a2f25e7c0",
   "outputs": [
    {
     "data": {
      "text/plain": [
       "                 track_id  length  popularity  danceability  acousticness  \\\n",
       "0  7x9aauaA9cu6tyfpHnqDLo  184400          98         0.802       0.31100   \n",
       "1  2IGMVunIBsBLtEQyoI1Mu7  231750         100         0.868       0.26900   \n",
       "2  3RaCGXCiiMufRPoexXxGkV  310490          87         0.483       0.50800   \n",
       "3  3IX0yuEVvDbnqUwMBB3ouC  184783          91         0.627       0.00193   \n",
       "4  1vYXt7VSjH9JIM5oRRo7vA  176579          96         0.671       0.02070   \n",
       "\n",
       "   energy  instrumentalness  liveness  loudness  speechiness    tempo  \\\n",
       "0   0.832          0.000000    0.0815    -4.107       0.0434  124.997   \n",
       "1   0.538          0.000003    0.0901    -8.603       0.1740   99.968   \n",
       "2   0.408          0.000000    0.2590    -9.243       0.0502   88.880   \n",
       "3   0.879          0.000007    0.0647    -3.446       0.0955  129.979   \n",
       "4   0.845          0.000000    0.3290    -4.930       0.0480  110.056   \n",
       "\n",
       "   time_signature  favorite  \n",
       "0               4         0  \n",
       "1               4         0  \n",
       "2               3         0  \n",
       "3               4         0  \n",
       "4               4         0  "
      ],
      "text/html": [
       "<div>\n",
       "<style scoped>\n",
       "    .dataframe tbody tr th:only-of-type {\n",
       "        vertical-align: middle;\n",
       "    }\n",
       "\n",
       "    .dataframe tbody tr th {\n",
       "        vertical-align: top;\n",
       "    }\n",
       "\n",
       "    .dataframe thead th {\n",
       "        text-align: right;\n",
       "    }\n",
       "</style>\n",
       "<table border=\"1\" class=\"dataframe\">\n",
       "  <thead>\n",
       "    <tr style=\"text-align: right;\">\n",
       "      <th></th>\n",
       "      <th>track_id</th>\n",
       "      <th>length</th>\n",
       "      <th>popularity</th>\n",
       "      <th>danceability</th>\n",
       "      <th>acousticness</th>\n",
       "      <th>energy</th>\n",
       "      <th>instrumentalness</th>\n",
       "      <th>liveness</th>\n",
       "      <th>loudness</th>\n",
       "      <th>speechiness</th>\n",
       "      <th>tempo</th>\n",
       "      <th>time_signature</th>\n",
       "      <th>favorite</th>\n",
       "    </tr>\n",
       "  </thead>\n",
       "  <tbody>\n",
       "    <tr>\n",
       "      <th>0</th>\n",
       "      <td>7x9aauaA9cu6tyfpHnqDLo</td>\n",
       "      <td>184400</td>\n",
       "      <td>98</td>\n",
       "      <td>0.802</td>\n",
       "      <td>0.31100</td>\n",
       "      <td>0.832</td>\n",
       "      <td>0.000000</td>\n",
       "      <td>0.0815</td>\n",
       "      <td>-4.107</td>\n",
       "      <td>0.0434</td>\n",
       "      <td>124.997</td>\n",
       "      <td>4</td>\n",
       "      <td>0</td>\n",
       "    </tr>\n",
       "    <tr>\n",
       "      <th>1</th>\n",
       "      <td>2IGMVunIBsBLtEQyoI1Mu7</td>\n",
       "      <td>231750</td>\n",
       "      <td>100</td>\n",
       "      <td>0.868</td>\n",
       "      <td>0.26900</td>\n",
       "      <td>0.538</td>\n",
       "      <td>0.000003</td>\n",
       "      <td>0.0901</td>\n",
       "      <td>-8.603</td>\n",
       "      <td>0.1740</td>\n",
       "      <td>99.968</td>\n",
       "      <td>4</td>\n",
       "      <td>0</td>\n",
       "    </tr>\n",
       "    <tr>\n",
       "      <th>2</th>\n",
       "      <td>3RaCGXCiiMufRPoexXxGkV</td>\n",
       "      <td>310490</td>\n",
       "      <td>87</td>\n",
       "      <td>0.483</td>\n",
       "      <td>0.50800</td>\n",
       "      <td>0.408</td>\n",
       "      <td>0.000000</td>\n",
       "      <td>0.2590</td>\n",
       "      <td>-9.243</td>\n",
       "      <td>0.0502</td>\n",
       "      <td>88.880</td>\n",
       "      <td>3</td>\n",
       "      <td>0</td>\n",
       "    </tr>\n",
       "    <tr>\n",
       "      <th>3</th>\n",
       "      <td>3IX0yuEVvDbnqUwMBB3ouC</td>\n",
       "      <td>184783</td>\n",
       "      <td>91</td>\n",
       "      <td>0.627</td>\n",
       "      <td>0.00193</td>\n",
       "      <td>0.879</td>\n",
       "      <td>0.000007</td>\n",
       "      <td>0.0647</td>\n",
       "      <td>-3.446</td>\n",
       "      <td>0.0955</td>\n",
       "      <td>129.979</td>\n",
       "      <td>4</td>\n",
       "      <td>0</td>\n",
       "    </tr>\n",
       "    <tr>\n",
       "      <th>4</th>\n",
       "      <td>1vYXt7VSjH9JIM5oRRo7vA</td>\n",
       "      <td>176579</td>\n",
       "      <td>96</td>\n",
       "      <td>0.671</td>\n",
       "      <td>0.02070</td>\n",
       "      <td>0.845</td>\n",
       "      <td>0.000000</td>\n",
       "      <td>0.3290</td>\n",
       "      <td>-4.930</td>\n",
       "      <td>0.0480</td>\n",
       "      <td>110.056</td>\n",
       "      <td>4</td>\n",
       "      <td>0</td>\n",
       "    </tr>\n",
       "  </tbody>\n",
       "</table>\n",
       "</div>"
      ]
     },
     "execution_count": 4,
     "metadata": {},
     "output_type": "execute_result"
    }
   ],
   "execution_count": 4
  },
  {
   "cell_type": "code",
   "source": [
    "df_fav.head()"
   ],
   "metadata": {
    "collapsed": false,
    "ExecuteTime": {
     "end_time": "2025-04-06T11:24:58.929931Z",
     "start_time": "2025-04-06T11:24:58.922832Z"
    }
   },
   "id": "a7119abce7103e6f",
   "outputs": [
    {
     "data": {
      "text/plain": [
       "Empty DataFrame\n",
       "Columns: [track_id, length, popularity, danceability, acousticness, energy, instrumentalness, liveness, loudness, speechiness, tempo, time_signature, favorite]\n",
       "Index: []"
      ],
      "text/html": [
       "<div>\n",
       "<style scoped>\n",
       "    .dataframe tbody tr th:only-of-type {\n",
       "        vertical-align: middle;\n",
       "    }\n",
       "\n",
       "    .dataframe tbody tr th {\n",
       "        vertical-align: top;\n",
       "    }\n",
       "\n",
       "    .dataframe thead th {\n",
       "        text-align: right;\n",
       "    }\n",
       "</style>\n",
       "<table border=\"1\" class=\"dataframe\">\n",
       "  <thead>\n",
       "    <tr style=\"text-align: right;\">\n",
       "      <th></th>\n",
       "      <th>track_id</th>\n",
       "      <th>length</th>\n",
       "      <th>popularity</th>\n",
       "      <th>danceability</th>\n",
       "      <th>acousticness</th>\n",
       "      <th>energy</th>\n",
       "      <th>instrumentalness</th>\n",
       "      <th>liveness</th>\n",
       "      <th>loudness</th>\n",
       "      <th>speechiness</th>\n",
       "      <th>tempo</th>\n",
       "      <th>time_signature</th>\n",
       "      <th>favorite</th>\n",
       "    </tr>\n",
       "  </thead>\n",
       "  <tbody>\n",
       "  </tbody>\n",
       "</table>\n",
       "</div>"
      ]
     },
     "execution_count": 6,
     "metadata": {},
     "output_type": "execute_result"
    }
   ],
   "execution_count": 6
  },
  {
   "cell_type": "code",
   "source": [
    "df"
   ],
   "metadata": {
    "collapsed": false,
    "ExecuteTime": {
     "end_time": "2025-04-06T11:25:39.526834Z",
     "start_time": "2025-04-06T11:25:39.509835Z"
    }
   },
   "id": "8240c47178f9f29d",
   "outputs": [
    {
     "data": {
      "text/plain": [
       "                    track_id  length  popularity  danceability  acousticness  \\\n",
       "0     7x9aauaA9cu6tyfpHnqDLo  184400          98         0.802       0.31100   \n",
       "1     2IGMVunIBsBLtEQyoI1Mu7  231750         100         0.868       0.26900   \n",
       "2     3RaCGXCiiMufRPoexXxGkV  310490          87         0.483       0.50800   \n",
       "3     3IX0yuEVvDbnqUwMBB3ouC  184783          91         0.627       0.00193   \n",
       "4     1vYXt7VSjH9JIM5oRRo7vA  176579          96         0.671       0.02070   \n",
       "...                      ...     ...         ...           ...           ...   \n",
       "8397  5UcphALlWd7sBBySclJvAi  194906          61         0.420       0.01150   \n",
       "8398  4yVPaA6DOfwbqZIQNv4G5U  215933          58         0.495       0.01700   \n",
       "8399  4fLTtg48X0QtKrj0Jv8I3v  240000          60         0.523       0.02020   \n",
       "8400  556dq53fPiJ1aiXRSXI2bA  255320          54         0.507       0.00104   \n",
       "8401  1LmwMw97uG572wZ3hohkNt  182005          54         0.814       0.44300   \n",
       "\n",
       "      energy  instrumentalness  liveness  loudness  speechiness    tempo  \\\n",
       "0      0.832          0.000000    0.0815    -4.107       0.0434  124.997   \n",
       "1      0.538          0.000003    0.0901    -8.603       0.1740   99.968   \n",
       "2      0.408          0.000000    0.2590    -9.243       0.0502   88.880   \n",
       "3      0.879          0.000007    0.0647    -3.446       0.0955  129.979   \n",
       "4      0.845          0.000000    0.3290    -4.930       0.0480  110.056   \n",
       "...      ...               ...       ...       ...          ...      ...   \n",
       "8397   0.867          0.000000    0.0851    -5.397       0.0853   78.814   \n",
       "8398   0.966          0.000000    0.6060    -2.284       0.1140  139.931   \n",
       "8399   0.883          0.000000    0.1160    -2.956       0.0365   92.215   \n",
       "8400   0.889          0.000000    0.9310    -5.652       0.0468   83.992   \n",
       "8401   0.295          0.000000    0.1130    -5.086       0.0338  125.025   \n",
       "\n",
       "      time_signature  favorite  \n",
       "0                  4         0  \n",
       "1                  4         0  \n",
       "2                  3         0  \n",
       "3                  4         0  \n",
       "4                  4         0  \n",
       "...              ...       ...  \n",
       "8397               4         0  \n",
       "8398               4         0  \n",
       "8399               4         0  \n",
       "8400               4         0  \n",
       "8401               4         0  \n",
       "\n",
       "[8402 rows x 13 columns]"
      ],
      "text/html": [
       "<div>\n",
       "<style scoped>\n",
       "    .dataframe tbody tr th:only-of-type {\n",
       "        vertical-align: middle;\n",
       "    }\n",
       "\n",
       "    .dataframe tbody tr th {\n",
       "        vertical-align: top;\n",
       "    }\n",
       "\n",
       "    .dataframe thead th {\n",
       "        text-align: right;\n",
       "    }\n",
       "</style>\n",
       "<table border=\"1\" class=\"dataframe\">\n",
       "  <thead>\n",
       "    <tr style=\"text-align: right;\">\n",
       "      <th></th>\n",
       "      <th>track_id</th>\n",
       "      <th>length</th>\n",
       "      <th>popularity</th>\n",
       "      <th>danceability</th>\n",
       "      <th>acousticness</th>\n",
       "      <th>energy</th>\n",
       "      <th>instrumentalness</th>\n",
       "      <th>liveness</th>\n",
       "      <th>loudness</th>\n",
       "      <th>speechiness</th>\n",
       "      <th>tempo</th>\n",
       "      <th>time_signature</th>\n",
       "      <th>favorite</th>\n",
       "    </tr>\n",
       "  </thead>\n",
       "  <tbody>\n",
       "    <tr>\n",
       "      <th>0</th>\n",
       "      <td>7x9aauaA9cu6tyfpHnqDLo</td>\n",
       "      <td>184400</td>\n",
       "      <td>98</td>\n",
       "      <td>0.802</td>\n",
       "      <td>0.31100</td>\n",
       "      <td>0.832</td>\n",
       "      <td>0.000000</td>\n",
       "      <td>0.0815</td>\n",
       "      <td>-4.107</td>\n",
       "      <td>0.0434</td>\n",
       "      <td>124.997</td>\n",
       "      <td>4</td>\n",
       "      <td>0</td>\n",
       "    </tr>\n",
       "    <tr>\n",
       "      <th>1</th>\n",
       "      <td>2IGMVunIBsBLtEQyoI1Mu7</td>\n",
       "      <td>231750</td>\n",
       "      <td>100</td>\n",
       "      <td>0.868</td>\n",
       "      <td>0.26900</td>\n",
       "      <td>0.538</td>\n",
       "      <td>0.000003</td>\n",
       "      <td>0.0901</td>\n",
       "      <td>-8.603</td>\n",
       "      <td>0.1740</td>\n",
       "      <td>99.968</td>\n",
       "      <td>4</td>\n",
       "      <td>0</td>\n",
       "    </tr>\n",
       "    <tr>\n",
       "      <th>2</th>\n",
       "      <td>3RaCGXCiiMufRPoexXxGkV</td>\n",
       "      <td>310490</td>\n",
       "      <td>87</td>\n",
       "      <td>0.483</td>\n",
       "      <td>0.50800</td>\n",
       "      <td>0.408</td>\n",
       "      <td>0.000000</td>\n",
       "      <td>0.2590</td>\n",
       "      <td>-9.243</td>\n",
       "      <td>0.0502</td>\n",
       "      <td>88.880</td>\n",
       "      <td>3</td>\n",
       "      <td>0</td>\n",
       "    </tr>\n",
       "    <tr>\n",
       "      <th>3</th>\n",
       "      <td>3IX0yuEVvDbnqUwMBB3ouC</td>\n",
       "      <td>184783</td>\n",
       "      <td>91</td>\n",
       "      <td>0.627</td>\n",
       "      <td>0.00193</td>\n",
       "      <td>0.879</td>\n",
       "      <td>0.000007</td>\n",
       "      <td>0.0647</td>\n",
       "      <td>-3.446</td>\n",
       "      <td>0.0955</td>\n",
       "      <td>129.979</td>\n",
       "      <td>4</td>\n",
       "      <td>0</td>\n",
       "    </tr>\n",
       "    <tr>\n",
       "      <th>4</th>\n",
       "      <td>1vYXt7VSjH9JIM5oRRo7vA</td>\n",
       "      <td>176579</td>\n",
       "      <td>96</td>\n",
       "      <td>0.671</td>\n",
       "      <td>0.02070</td>\n",
       "      <td>0.845</td>\n",
       "      <td>0.000000</td>\n",
       "      <td>0.3290</td>\n",
       "      <td>-4.930</td>\n",
       "      <td>0.0480</td>\n",
       "      <td>110.056</td>\n",
       "      <td>4</td>\n",
       "      <td>0</td>\n",
       "    </tr>\n",
       "    <tr>\n",
       "      <th>...</th>\n",
       "      <td>...</td>\n",
       "      <td>...</td>\n",
       "      <td>...</td>\n",
       "      <td>...</td>\n",
       "      <td>...</td>\n",
       "      <td>...</td>\n",
       "      <td>...</td>\n",
       "      <td>...</td>\n",
       "      <td>...</td>\n",
       "      <td>...</td>\n",
       "      <td>...</td>\n",
       "      <td>...</td>\n",
       "      <td>...</td>\n",
       "    </tr>\n",
       "    <tr>\n",
       "      <th>8397</th>\n",
       "      <td>5UcphALlWd7sBBySclJvAi</td>\n",
       "      <td>194906</td>\n",
       "      <td>61</td>\n",
       "      <td>0.420</td>\n",
       "      <td>0.01150</td>\n",
       "      <td>0.867</td>\n",
       "      <td>0.000000</td>\n",
       "      <td>0.0851</td>\n",
       "      <td>-5.397</td>\n",
       "      <td>0.0853</td>\n",
       "      <td>78.814</td>\n",
       "      <td>4</td>\n",
       "      <td>0</td>\n",
       "    </tr>\n",
       "    <tr>\n",
       "      <th>8398</th>\n",
       "      <td>4yVPaA6DOfwbqZIQNv4G5U</td>\n",
       "      <td>215933</td>\n",
       "      <td>58</td>\n",
       "      <td>0.495</td>\n",
       "      <td>0.01700</td>\n",
       "      <td>0.966</td>\n",
       "      <td>0.000000</td>\n",
       "      <td>0.6060</td>\n",
       "      <td>-2.284</td>\n",
       "      <td>0.1140</td>\n",
       "      <td>139.931</td>\n",
       "      <td>4</td>\n",
       "      <td>0</td>\n",
       "    </tr>\n",
       "    <tr>\n",
       "      <th>8399</th>\n",
       "      <td>4fLTtg48X0QtKrj0Jv8I3v</td>\n",
       "      <td>240000</td>\n",
       "      <td>60</td>\n",
       "      <td>0.523</td>\n",
       "      <td>0.02020</td>\n",
       "      <td>0.883</td>\n",
       "      <td>0.000000</td>\n",
       "      <td>0.1160</td>\n",
       "      <td>-2.956</td>\n",
       "      <td>0.0365</td>\n",
       "      <td>92.215</td>\n",
       "      <td>4</td>\n",
       "      <td>0</td>\n",
       "    </tr>\n",
       "    <tr>\n",
       "      <th>8400</th>\n",
       "      <td>556dq53fPiJ1aiXRSXI2bA</td>\n",
       "      <td>255320</td>\n",
       "      <td>54</td>\n",
       "      <td>0.507</td>\n",
       "      <td>0.00104</td>\n",
       "      <td>0.889</td>\n",
       "      <td>0.000000</td>\n",
       "      <td>0.9310</td>\n",
       "      <td>-5.652</td>\n",
       "      <td>0.0468</td>\n",
       "      <td>83.992</td>\n",
       "      <td>4</td>\n",
       "      <td>0</td>\n",
       "    </tr>\n",
       "    <tr>\n",
       "      <th>8401</th>\n",
       "      <td>1LmwMw97uG572wZ3hohkNt</td>\n",
       "      <td>182005</td>\n",
       "      <td>54</td>\n",
       "      <td>0.814</td>\n",
       "      <td>0.44300</td>\n",
       "      <td>0.295</td>\n",
       "      <td>0.000000</td>\n",
       "      <td>0.1130</td>\n",
       "      <td>-5.086</td>\n",
       "      <td>0.0338</td>\n",
       "      <td>125.025</td>\n",
       "      <td>4</td>\n",
       "      <td>0</td>\n",
       "    </tr>\n",
       "  </tbody>\n",
       "</table>\n",
       "<p>8402 rows × 13 columns</p>\n",
       "</div>"
      ]
     },
     "execution_count": 7,
     "metadata": {},
     "output_type": "execute_result"
    }
   ],
   "execution_count": 7
  },
  {
   "cell_type": "code",
   "source": [
    "df_fav"
   ],
   "metadata": {
    "collapsed": false,
    "ExecuteTime": {
     "end_time": "2025-04-06T11:25:42.865240Z",
     "start_time": "2025-04-06T11:25:42.857308Z"
    }
   },
   "id": "33c8b487c1c56be7",
   "outputs": [
    {
     "data": {
      "text/plain": [
       "Empty DataFrame\n",
       "Columns: [track_id, length, popularity, danceability, acousticness, energy, instrumentalness, liveness, loudness, speechiness, tempo, time_signature, favorite]\n",
       "Index: []"
      ],
      "text/html": [
       "<div>\n",
       "<style scoped>\n",
       "    .dataframe tbody tr th:only-of-type {\n",
       "        vertical-align: middle;\n",
       "    }\n",
       "\n",
       "    .dataframe tbody tr th {\n",
       "        vertical-align: top;\n",
       "    }\n",
       "\n",
       "    .dataframe thead th {\n",
       "        text-align: right;\n",
       "    }\n",
       "</style>\n",
       "<table border=\"1\" class=\"dataframe\">\n",
       "  <thead>\n",
       "    <tr style=\"text-align: right;\">\n",
       "      <th></th>\n",
       "      <th>track_id</th>\n",
       "      <th>length</th>\n",
       "      <th>popularity</th>\n",
       "      <th>danceability</th>\n",
       "      <th>acousticness</th>\n",
       "      <th>energy</th>\n",
       "      <th>instrumentalness</th>\n",
       "      <th>liveness</th>\n",
       "      <th>loudness</th>\n",
       "      <th>speechiness</th>\n",
       "      <th>tempo</th>\n",
       "      <th>time_signature</th>\n",
       "      <th>favorite</th>\n",
       "    </tr>\n",
       "  </thead>\n",
       "  <tbody>\n",
       "  </tbody>\n",
       "</table>\n",
       "</div>"
      ]
     },
     "execution_count": 8,
     "metadata": {},
     "output_type": "execute_result"
    }
   ],
   "execution_count": 8
  },
  {
   "cell_type": "code",
   "source": [
    "print(df.shape)\n",
    "print(df_fav.shape)"
   ],
   "metadata": {
    "collapsed": false,
    "ExecuteTime": {
     "end_time": "2025-04-06T11:25:45.211717Z",
     "start_time": "2025-04-06T11:25:45.207664Z"
    }
   },
   "id": "b33a60a9a67085c5",
   "outputs": [
    {
     "name": "stdout",
     "output_type": "stream",
     "text": [
      "(8402, 13)\n",
      "(0, 13)\n"
     ]
    }
   ],
   "execution_count": 9
  },
  {
   "cell_type": "code",
   "source": [
    "df = pd.concat([df, df_fav], axis=0)\n",
    "df.shape"
   ],
   "metadata": {
    "collapsed": false,
    "ExecuteTime": {
     "end_time": "2025-04-06T11:25:47.310025Z",
     "start_time": "2025-04-06T11:25:47.301028Z"
    }
   },
   "id": "3c369fb203fc22ed",
   "outputs": [
    {
     "data": {
      "text/plain": [
       "(8402, 13)"
      ]
     },
     "execution_count": 10,
     "metadata": {},
     "output_type": "execute_result"
    }
   ],
   "execution_count": 10
  },
  {
   "cell_type": "code",
   "source": [
    "df['favorite'].value_counts()"
   ],
   "metadata": {
    "collapsed": false,
    "ExecuteTime": {
     "end_time": "2025-04-06T11:25:49.207396Z",
     "start_time": "2025-04-06T11:25:49.197429Z"
    }
   },
   "id": "1f9e191c2e370061",
   "outputs": [
    {
     "data": {
      "text/plain": [
       "favorite\n",
       "0    8402\n",
       "Name: count, dtype: int64"
      ]
     },
     "execution_count": 11,
     "metadata": {},
     "output_type": "execute_result"
    }
   ],
   "execution_count": 11
  },
  {
   "cell_type": "code",
   "source": [
    "# Shuffle your dataset \n",
    "shuffle_df = df.sample(frac=1)\n",
    "\n",
    "# Define a size for your train set \n",
    "train_size = int(0.8 * len(df))\n",
    "\n",
    "# Split dataset \n",
    "train_set = shuffle_df[:train_size]\n",
    "test_set = shuffle_df[train_size:]"
   ],
   "metadata": {
    "collapsed": false,
    "ExecuteTime": {
     "end_time": "2025-04-06T11:25:51.286050Z",
     "start_time": "2025-04-06T11:25:51.277034Z"
    }
   },
   "id": "634c282040d28bdb",
   "outputs": [],
   "execution_count": 12
  },
  {
   "cell_type": "code",
   "execution_count": 11,
   "outputs": [
    {
     "data": {
      "text/plain": "                    track_id  length  popularity  danceability  acousticness  \\\n6692  4XSwn2DpUy5ZbzcCmrBSqN  128933          23         0.479        0.9920   \n2840  2Kw5QYMTLrRV7jpoE8YkMg  203960          57         0.288        0.8260   \n4162  6RZo8T7GY9EoWZXC5i2587  192514          68         0.728        0.2220   \n5588  3SGebd91gbpKanqQ2Yg9F1  195704          41         0.584        0.0609   \n3573  4AtZRwSR8BOTTQg5ihSggt  246773          72         0.417        0.0307   \n\n      energy  instrumentalness  liveness  loudness  speechiness    tempo  \\\n6692   0.187          0.000345     0.143   -15.721       0.0645  125.992   \n2840   0.452          0.000000     0.123    -6.974       0.0298   81.572   \n4162   0.689          0.000061     0.107    -6.601       0.1300   89.973   \n5588   0.707          0.000000     0.120    -3.671       0.0458  127.905   \n3573   0.580          0.000001     0.179    -4.574       0.2070   68.580   \n\n      time_signature  favorite  \n6692               4         0  \n2840               4         0  \n4162               4         0  \n5588               4         0  \n3573               5         0  ",
      "text/html": "<div>\n<style scoped>\n    .dataframe tbody tr th:only-of-type {\n        vertical-align: middle;\n    }\n\n    .dataframe tbody tr th {\n        vertical-align: top;\n    }\n\n    .dataframe thead th {\n        text-align: right;\n    }\n</style>\n<table border=\"1\" class=\"dataframe\">\n  <thead>\n    <tr style=\"text-align: right;\">\n      <th></th>\n      <th>track_id</th>\n      <th>length</th>\n      <th>popularity</th>\n      <th>danceability</th>\n      <th>acousticness</th>\n      <th>energy</th>\n      <th>instrumentalness</th>\n      <th>liveness</th>\n      <th>loudness</th>\n      <th>speechiness</th>\n      <th>tempo</th>\n      <th>time_signature</th>\n      <th>favorite</th>\n    </tr>\n  </thead>\n  <tbody>\n    <tr>\n      <th>6692</th>\n      <td>4XSwn2DpUy5ZbzcCmrBSqN</td>\n      <td>128933</td>\n      <td>23</td>\n      <td>0.479</td>\n      <td>0.9920</td>\n      <td>0.187</td>\n      <td>0.000345</td>\n      <td>0.143</td>\n      <td>-15.721</td>\n      <td>0.0645</td>\n      <td>125.992</td>\n      <td>4</td>\n      <td>0</td>\n    </tr>\n    <tr>\n      <th>2840</th>\n      <td>2Kw5QYMTLrRV7jpoE8YkMg</td>\n      <td>203960</td>\n      <td>57</td>\n      <td>0.288</td>\n      <td>0.8260</td>\n      <td>0.452</td>\n      <td>0.000000</td>\n      <td>0.123</td>\n      <td>-6.974</td>\n      <td>0.0298</td>\n      <td>81.572</td>\n      <td>4</td>\n      <td>0</td>\n    </tr>\n    <tr>\n      <th>4162</th>\n      <td>6RZo8T7GY9EoWZXC5i2587</td>\n      <td>192514</td>\n      <td>68</td>\n      <td>0.728</td>\n      <td>0.2220</td>\n      <td>0.689</td>\n      <td>0.000061</td>\n      <td>0.107</td>\n      <td>-6.601</td>\n      <td>0.1300</td>\n      <td>89.973</td>\n      <td>4</td>\n      <td>0</td>\n    </tr>\n    <tr>\n      <th>5588</th>\n      <td>3SGebd91gbpKanqQ2Yg9F1</td>\n      <td>195704</td>\n      <td>41</td>\n      <td>0.584</td>\n      <td>0.0609</td>\n      <td>0.707</td>\n      <td>0.000000</td>\n      <td>0.120</td>\n      <td>-3.671</td>\n      <td>0.0458</td>\n      <td>127.905</td>\n      <td>4</td>\n      <td>0</td>\n    </tr>\n    <tr>\n      <th>3573</th>\n      <td>4AtZRwSR8BOTTQg5ihSggt</td>\n      <td>246773</td>\n      <td>72</td>\n      <td>0.417</td>\n      <td>0.0307</td>\n      <td>0.580</td>\n      <td>0.000001</td>\n      <td>0.179</td>\n      <td>-4.574</td>\n      <td>0.2070</td>\n      <td>68.580</td>\n      <td>5</td>\n      <td>0</td>\n    </tr>\n  </tbody>\n</table>\n</div>"
     },
     "execution_count": 11,
     "metadata": {},
     "output_type": "execute_result"
    }
   ],
   "source": [
    "train_set.head()"
   ],
   "metadata": {
    "collapsed": false,
    "ExecuteTime": {
     "end_time": "2023-10-01T23:41:45.659759200Z",
     "start_time": "2023-10-01T23:41:45.188301100Z"
    }
   },
   "id": "3fd115a442f57baa"
  },
  {
   "cell_type": "code",
   "execution_count": 12,
   "outputs": [
    {
     "data": {
      "text/plain": "      length  popularity  danceability  acousticness  energy  \\\n6692  128933          23         0.479        0.9920   0.187   \n2840  203960          57         0.288        0.8260   0.452   \n4162  192514          68         0.728        0.2220   0.689   \n5588  195704          41         0.584        0.0609   0.707   \n3573  246773          72         0.417        0.0307   0.580   \n\n      instrumentalness  liveness  loudness  speechiness    tempo  \\\n6692          0.000345     0.143   -15.721       0.0645  125.992   \n2840          0.000000     0.123    -6.974       0.0298   81.572   \n4162          0.000061     0.107    -6.601       0.1300   89.973   \n5588          0.000000     0.120    -3.671       0.0458  127.905   \n3573          0.000001     0.179    -4.574       0.2070   68.580   \n\n      time_signature  \n6692               4  \n2840               4  \n4162               4  \n5588               4  \n3573               5  ",
      "text/html": "<div>\n<style scoped>\n    .dataframe tbody tr th:only-of-type {\n        vertical-align: middle;\n    }\n\n    .dataframe tbody tr th {\n        vertical-align: top;\n    }\n\n    .dataframe thead th {\n        text-align: right;\n    }\n</style>\n<table border=\"1\" class=\"dataframe\">\n  <thead>\n    <tr style=\"text-align: right;\">\n      <th></th>\n      <th>length</th>\n      <th>popularity</th>\n      <th>danceability</th>\n      <th>acousticness</th>\n      <th>energy</th>\n      <th>instrumentalness</th>\n      <th>liveness</th>\n      <th>loudness</th>\n      <th>speechiness</th>\n      <th>tempo</th>\n      <th>time_signature</th>\n    </tr>\n  </thead>\n  <tbody>\n    <tr>\n      <th>6692</th>\n      <td>128933</td>\n      <td>23</td>\n      <td>0.479</td>\n      <td>0.9920</td>\n      <td>0.187</td>\n      <td>0.000345</td>\n      <td>0.143</td>\n      <td>-15.721</td>\n      <td>0.0645</td>\n      <td>125.992</td>\n      <td>4</td>\n    </tr>\n    <tr>\n      <th>2840</th>\n      <td>203960</td>\n      <td>57</td>\n      <td>0.288</td>\n      <td>0.8260</td>\n      <td>0.452</td>\n      <td>0.000000</td>\n      <td>0.123</td>\n      <td>-6.974</td>\n      <td>0.0298</td>\n      <td>81.572</td>\n      <td>4</td>\n    </tr>\n    <tr>\n      <th>4162</th>\n      <td>192514</td>\n      <td>68</td>\n      <td>0.728</td>\n      <td>0.2220</td>\n      <td>0.689</td>\n      <td>0.000061</td>\n      <td>0.107</td>\n      <td>-6.601</td>\n      <td>0.1300</td>\n      <td>89.973</td>\n      <td>4</td>\n    </tr>\n    <tr>\n      <th>5588</th>\n      <td>195704</td>\n      <td>41</td>\n      <td>0.584</td>\n      <td>0.0609</td>\n      <td>0.707</td>\n      <td>0.000000</td>\n      <td>0.120</td>\n      <td>-3.671</td>\n      <td>0.0458</td>\n      <td>127.905</td>\n      <td>4</td>\n    </tr>\n    <tr>\n      <th>3573</th>\n      <td>246773</td>\n      <td>72</td>\n      <td>0.417</td>\n      <td>0.0307</td>\n      <td>0.580</td>\n      <td>0.000001</td>\n      <td>0.179</td>\n      <td>-4.574</td>\n      <td>0.2070</td>\n      <td>68.580</td>\n      <td>5</td>\n    </tr>\n  </tbody>\n</table>\n</div>"
     },
     "execution_count": 12,
     "metadata": {},
     "output_type": "execute_result"
    }
   ],
   "source": [
    "X = train_set.drop(columns=['favorite', 'track_id'])\n",
    "y = train_set.favorite\n",
    "\n",
    "X.head()"
   ],
   "metadata": {
    "collapsed": false,
    "ExecuteTime": {
     "end_time": "2023-10-01T23:41:45.659759200Z",
     "start_time": "2023-10-01T23:41:45.208830Z"
    }
   },
   "id": "366015be70292700"
  },
  {
   "cell_type": "code",
   "execution_count": 13,
   "outputs": [
    {
     "data": {
      "text/plain": "favorite\n0    6722\n1      39\nName: count, dtype: int64"
     },
     "execution_count": 13,
     "metadata": {},
     "output_type": "execute_result"
    }
   ],
   "source": [
    "y.value_counts()"
   ],
   "metadata": {
    "collapsed": false,
    "ExecuteTime": {
     "end_time": "2023-10-01T23:41:45.659759200Z",
     "start_time": "2023-10-01T23:41:45.229605800Z"
    }
   },
   "id": "90e4a3e0a141cb77"
  },
  {
   "cell_type": "code",
   "execution_count": 14,
   "outputs": [],
   "source": [
    "#Since the number of favorite songs is so little compared to non-favorite songs, I decided to oversample the favorite class to train a classificaiton model on.\n",
    "sm = SMOTE(random_state=42)\n",
    "X_train, y_train = sm.fit_resample(X, y) "
   ],
   "metadata": {
    "collapsed": false,
    "ExecuteTime": {
     "end_time": "2023-10-01T23:41:45.659759200Z",
     "start_time": "2023-10-01T23:41:45.232618900Z"
    }
   },
   "id": "9145153040459902"
  },
  {
   "cell_type": "code",
   "execution_count": 15,
   "outputs": [
    {
     "data": {
      "text/plain": "   length  popularity  danceability  acousticness  energy  instrumentalness  \\\n0  128933          23         0.479        0.9920   0.187          0.000345   \n1  203960          57         0.288        0.8260   0.452          0.000000   \n2  192514          68         0.728        0.2220   0.689          0.000061   \n3  195704          41         0.584        0.0609   0.707          0.000000   \n4  246773          72         0.417        0.0307   0.580          0.000001   \n\n   liveness  loudness  speechiness    tempo  time_signature  \n0     0.143   -15.721       0.0645  125.992               4  \n1     0.123    -6.974       0.0298   81.572               4  \n2     0.107    -6.601       0.1300   89.973               4  \n3     0.120    -3.671       0.0458  127.905               4  \n4     0.179    -4.574       0.2070   68.580               5  ",
      "text/html": "<div>\n<style scoped>\n    .dataframe tbody tr th:only-of-type {\n        vertical-align: middle;\n    }\n\n    .dataframe tbody tr th {\n        vertical-align: top;\n    }\n\n    .dataframe thead th {\n        text-align: right;\n    }\n</style>\n<table border=\"1\" class=\"dataframe\">\n  <thead>\n    <tr style=\"text-align: right;\">\n      <th></th>\n      <th>length</th>\n      <th>popularity</th>\n      <th>danceability</th>\n      <th>acousticness</th>\n      <th>energy</th>\n      <th>instrumentalness</th>\n      <th>liveness</th>\n      <th>loudness</th>\n      <th>speechiness</th>\n      <th>tempo</th>\n      <th>time_signature</th>\n    </tr>\n  </thead>\n  <tbody>\n    <tr>\n      <th>0</th>\n      <td>128933</td>\n      <td>23</td>\n      <td>0.479</td>\n      <td>0.9920</td>\n      <td>0.187</td>\n      <td>0.000345</td>\n      <td>0.143</td>\n      <td>-15.721</td>\n      <td>0.0645</td>\n      <td>125.992</td>\n      <td>4</td>\n    </tr>\n    <tr>\n      <th>1</th>\n      <td>203960</td>\n      <td>57</td>\n      <td>0.288</td>\n      <td>0.8260</td>\n      <td>0.452</td>\n      <td>0.000000</td>\n      <td>0.123</td>\n      <td>-6.974</td>\n      <td>0.0298</td>\n      <td>81.572</td>\n      <td>4</td>\n    </tr>\n    <tr>\n      <th>2</th>\n      <td>192514</td>\n      <td>68</td>\n      <td>0.728</td>\n      <td>0.2220</td>\n      <td>0.689</td>\n      <td>0.000061</td>\n      <td>0.107</td>\n      <td>-6.601</td>\n      <td>0.1300</td>\n      <td>89.973</td>\n      <td>4</td>\n    </tr>\n    <tr>\n      <th>3</th>\n      <td>195704</td>\n      <td>41</td>\n      <td>0.584</td>\n      <td>0.0609</td>\n      <td>0.707</td>\n      <td>0.000000</td>\n      <td>0.120</td>\n      <td>-3.671</td>\n      <td>0.0458</td>\n      <td>127.905</td>\n      <td>4</td>\n    </tr>\n    <tr>\n      <th>4</th>\n      <td>246773</td>\n      <td>72</td>\n      <td>0.417</td>\n      <td>0.0307</td>\n      <td>0.580</td>\n      <td>0.000001</td>\n      <td>0.179</td>\n      <td>-4.574</td>\n      <td>0.2070</td>\n      <td>68.580</td>\n      <td>5</td>\n    </tr>\n  </tbody>\n</table>\n</div>"
     },
     "execution_count": 15,
     "metadata": {},
     "output_type": "execute_result"
    }
   ],
   "source": [
    "X_train.head()"
   ],
   "metadata": {
    "collapsed": false,
    "ExecuteTime": {
     "end_time": "2023-10-01T23:41:45.668395200Z",
     "start_time": "2023-10-01T23:41:45.252362300Z"
    }
   },
   "id": "89c5861bed431cbd"
  },
  {
   "cell_type": "code",
   "execution_count": 16,
   "outputs": [
    {
     "data": {
      "text/plain": "favorite\n0    6722\n1    6722\nName: count, dtype: int64"
     },
     "execution_count": 16,
     "metadata": {},
     "output_type": "execute_result"
    }
   ],
   "source": [
    "# Checking if imbalance is gone\n",
    "y_train.value_counts()"
   ],
   "metadata": {
    "collapsed": false,
    "ExecuteTime": {
     "end_time": "2023-10-01T23:41:45.673288900Z",
     "start_time": "2023-10-01T23:41:45.268417200Z"
    }
   },
   "id": "adafb8399ef96ac5"
  },
  {
   "cell_type": "code",
   "execution_count": 17,
   "outputs": [],
   "source": [
    "# Setting test datasets\n",
    "X_test = test_set.drop(columns=['favorite', 'track_id'])\n",
    "y_test = test_set['favorite']"
   ],
   "metadata": {
    "collapsed": false,
    "ExecuteTime": {
     "end_time": "2023-10-01T23:41:45.673288900Z",
     "start_time": "2023-10-01T23:41:45.278870800Z"
    }
   },
   "id": "6b302a6e4891279"
  },
  {
   "cell_type": "code",
   "execution_count": 18,
   "outputs": [
    {
     "data": {
      "text/plain": "favorite\n0    1680\n1      11\nName: count, dtype: int64"
     },
     "execution_count": 18,
     "metadata": {},
     "output_type": "execute_result"
    }
   ],
   "source": [
    "# Checking for imbalance in test set\n",
    "y_test.value_counts()"
   ],
   "metadata": {
    "collapsed": false,
    "ExecuteTime": {
     "end_time": "2023-10-01T23:41:45.675736400Z",
     "start_time": "2023-10-01T23:41:45.285452900Z"
    }
   },
   "id": "4dac1aa2640c6f3b"
  },
  {
   "cell_type": "code",
   "execution_count": 19,
   "outputs": [
    {
     "name": "stdout",
     "output_type": "stream",
     "text": [
      "0.7520447014019723\n",
      "CPU times: total: 31.2 ms\n",
      "Wall time: 612 ms\n"
     ]
    }
   ],
   "source": [
    "%%time\n",
    "# Logistic Regression\n",
    "lr = LogisticRegression(solver='lbfgs', max_iter=400).fit(X_train, y_train)\n",
    "lr_scores = cross_val_score(lr, X_train, y_train, cv=10, scoring=\"f1\")\n",
    "print(np.mean(lr_scores))"
   ],
   "metadata": {
    "collapsed": false,
    "ExecuteTime": {
     "end_time": "2023-10-01T23:41:46.429547400Z",
     "start_time": "2023-10-01T23:41:45.294029400Z"
    }
   },
   "id": "609c8054f1c05b32"
  },
  {
   "cell_type": "code",
   "execution_count": 20,
   "outputs": [
    {
     "data": {
      "text/plain": "<sklearn.metrics._plot.confusion_matrix.ConfusionMatrixDisplay at 0x18afefa2890>"
     },
     "execution_count": 20,
     "metadata": {},
     "output_type": "execute_result"
    },
    {
     "data": {
      "text/plain": "<Figure size 640x480 with 2 Axes>",
      "image/png": "[encoded data removed]"
     },
     "metadata": {},
     "output_type": "display_data"
    }
   ],
   "source": [
    "ConfusionMatrixDisplay.from_estimator(lr, X_train, y_train)"
   ],
   "metadata": {
    "collapsed": false,
    "ExecuteTime": {
     "end_time": "2023-10-01T23:41:46.603805400Z",
     "start_time": "2023-10-01T23:41:45.912185600Z"
    }
   },
   "id": "c6ba6c819da5e2de"
  },
  {
   "cell_type": "code",
   "execution_count": 21,
   "outputs": [
    {
     "data": {
      "text/plain": "{'max_depth': 30}"
     },
     "execution_count": 21,
     "metadata": {},
     "output_type": "execute_result"
    }
   ],
   "source": [
    "# Hyperparameter optimization for Decision Tree Classifier\n",
    "parameters = {\n",
    "    'max_depth':[3, 4, 5, 6, 10, 15,20,30],\n",
    "}\n",
    "dtc = Pipeline([('CV',GridSearchCV(DecisionTreeClassifier(), parameters, cv = 5))])\n",
    "dtc.fit(X_train, y_train)\n",
    "dtc.named_steps['CV'].best_params_"
   ],
   "metadata": {
    "collapsed": false,
    "ExecuteTime": {
     "end_time": "2023-10-01T23:41:53.999681400Z",
     "start_time": "2023-10-01T23:41:46.223450900Z"
    }
   },
   "id": "f9ae58dc4df80f65"
  },
  {
   "cell_type": "code",
   "execution_count": 22,
   "outputs": [
    {
     "name": "stdout",
     "output_type": "stream",
     "text": [
      "CPU times: total: 219 ms\n",
      "Wall time: 4.17 s\n"
     ]
    },
    {
     "data": {
      "text/plain": "0.9792147244995263"
     },
     "execution_count": 22,
     "metadata": {},
     "output_type": "execute_result"
    }
   ],
   "source": [
    "%%time\n",
    "# Decision Tree Classifier\n",
    "dt = DecisionTreeClassifier(max_depth=30).fit(X_train, y_train)\n",
    "dt_scores = cross_val_score(dt, X_train, y_train, cv=10, scoring=\"f1\")\n",
    "np.mean(dt_scores)"
   ],
   "metadata": {
    "collapsed": false,
    "ExecuteTime": {
     "end_time": "2023-10-01T23:41:58.172922800Z",
     "start_time": "2023-10-01T23:41:53.999681400Z"
    }
   },
   "id": "b0ab1926957d7d48"
  },
  {
   "cell_type": "code",
   "execution_count": 23,
   "outputs": [
    {
     "data": {
      "text/plain": "<sklearn.metrics._plot.confusion_matrix.ConfusionMatrixDisplay at 0x18aff6f03d0>"
     },
     "execution_count": 23,
     "metadata": {},
     "output_type": "execute_result"
    },
    {
     "data": {
      "text/plain": "<Figure size 640x480 with 2 Axes>",
      "image/png": "[encoded data removed]"
     },
     "metadata": {},
     "output_type": "display_data"
    }
   ],
   "source": [
    "ConfusionMatrixDisplay.from_estimator(dt, X_train, y_train)"
   ],
   "metadata": {
    "collapsed": false,
    "ExecuteTime": {
     "end_time": "2023-10-01T23:41:58.347465600Z",
     "start_time": "2023-10-01T23:41:58.172922800Z"
    }
   },
   "id": "2e5c36df19c97ebe"
  },
  {
   "cell_type": "code",
   "execution_count": 24,
   "outputs": [
    {
     "name": "stdout",
     "output_type": "stream",
     "text": [
      "CPU times: total: 3.64 s\n",
      "Wall time: 54.5 s\n"
     ]
    },
    {
     "data": {
      "text/plain": "{'max_depth': 20, 'n_estimators': 30}"
     },
     "execution_count": 24,
     "metadata": {},
     "output_type": "execute_result"
    }
   ],
   "source": [
    "%%time\n",
    "# Hyperparameter optimization of RandomForestClassifier\n",
    "parameters = {\n",
    "    'max_depth':[3, 6,12,15,20],\n",
    "    'n_estimators':[10, 20,30]\n",
    "}\n",
    "clf = Pipeline([('CV',GridSearchCV(RandomForestClassifier(), parameters, cv = 5))])\n",
    "clf.fit(X_train, y_train)\n",
    "clf.named_steps['CV'].best_params_"
   ],
   "metadata": {
    "collapsed": false,
    "ExecuteTime": {
     "end_time": "2023-10-01T23:42:52.852601600Z",
     "start_time": "2023-10-01T23:41:58.347465600Z"
    }
   },
   "id": "603fc4f9bbc81338"
  },
  {
   "cell_type": "code",
   "execution_count": 26,
   "outputs": [
    {
     "name": "stdout",
     "output_type": "stream",
     "text": [
      "CPU times: total: 422 ms\n",
      "Wall time: 6.6 s\n"
     ]
    },
    {
     "data": {
      "text/plain": "0.9854000781683852"
     },
     "execution_count": 26,
     "metadata": {},
     "output_type": "execute_result"
    }
   ],
   "source": [
    "%%time\n",
    "# RandomForestClassifier\n",
    "rf = Pipeline([('rf', RandomForestClassifier(n_estimators = 10, max_depth = 20).fit(X_train, y_train))])\n",
    "rf_scores = cross_val_score(rf, X_train, y_train, cv=10, scoring=\"f1\")\n",
    "np.mean(rf_scores)"
   ],
   "metadata": {
    "collapsed": false,
    "ExecuteTime": {
     "end_time": "2023-10-01T23:43:49.884594100Z",
     "start_time": "2023-10-01T23:43:43.273727300Z"
    }
   },
   "id": "10d5a040ecdf96cc"
  },
  {
   "cell_type": "code",
   "execution_count": 27,
   "outputs": [
    {
     "data": {
      "text/plain": "<sklearn.metrics._plot.confusion_matrix.ConfusionMatrixDisplay at 0x18afe407250>"
     },
     "execution_count": 27,
     "metadata": {},
     "output_type": "execute_result"
    },
    {
     "data": {
      "text/plain": "<Figure size 640x480 with 2 Axes>",
      "image/png": "[encoded data removed]"
     },
     "metadata": {},
     "output_type": "display_data"
    }
   ],
   "source": [
    "ConfusionMatrixDisplay.from_estimator(rf, X_train, y_train)"
   ],
   "metadata": {
    "collapsed": false,
    "ExecuteTime": {
     "end_time": "2023-10-01T23:47:48.614988300Z",
     "start_time": "2023-10-01T23:47:48.448370600Z"
    }
   },
   "id": "d38f66531be5ee90"
  },
  {
   "cell_type": "code",
   "execution_count": null,
   "outputs": [],
   "source": [],
   "metadata": {
    "collapsed": false
   },
   "id": "6a96d1d72c4fedf6"
  }
 ],
 "metadata": {
  "kernelspec": {
   "display_name": "Python 3",
   "language": "python",
   "name": "python3"
  },
  "language_info": {
   "codemirror_mode": {
    "name": "ipython",
    "version": 2
   },
   "file_extension": ".py",
   "mimetype": "text/x-python",
   "name": "python",
   "nbconvert_exporter": "python",
   "pygments_lexer": "ipython2",
   "version": "2.7.6"
  }
 },
 "nbformat": 4,
 "nbformat_minor": 5
}
